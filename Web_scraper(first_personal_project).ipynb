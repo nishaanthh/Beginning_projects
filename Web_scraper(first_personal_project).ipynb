{
  "nbformat": 4,
  "nbformat_minor": 0,
  "metadata": {
    "colab": {
      "provenance": [],
      "authorship_tag": "ABX9TyNvXlh75cAMqyEhswLVYlyH",
      "include_colab_link": true
    },
    "kernelspec": {
      "name": "python3",
      "display_name": "Python 3"
    },
    "language_info": {
      "name": "python"
    }
  },
  "cells": [
    {
      "cell_type": "markdown",
      "metadata": {
        "id": "view-in-github",
        "colab_type": "text"
      },
      "source": [
        "<a href=\"https://colab.research.google.com/github/nishaanthh/Beginning_projects/blob/main/Web_scraper(first_personal_project).ipynb\" target=\"_parent\"><img src=\"https://colab.research.google.com/assets/colab-badge.svg\" alt=\"Open In Colab\"/></a>"
      ]
    },
    {
      "cell_type": "markdown",
      "source": [
        "#Introduction :"
      ],
      "metadata": {
        "id": "wGRhsY16Meh_"
      }
    },
    {
      "cell_type": "markdown",
      "source": [
        "#####This is my first project in python(idea of web_scraping was suggested by chatgpt).Here i have tried getting details from the site walmart.com which is a online shopping site.I have listed a bunch of products.My code will use the product name to fetch the details of each product in the walmart site and will provide us with the most relevant info about different products.(Reality check : This is not at all useful, i mean we can directly see all this in the website itself, but this is my first project which i am using to improve my skills.please don't tell me that it's a garbage(i know that).Anyway i tried my best).This video helped me a lot while working : https://youtu.be/DcI_AZqfZVc?si=9OE-NdogeL7v-GLZ . Most of the code is from this video, but i understood the video and did things by myself, but obviously i had doubts and i rewatched the video."
      ],
      "metadata": {
        "id": "vutumrZPJP6P"
      }
    },
    {
      "cell_type": "markdown",
      "source": [
        "#The Project :"
      ],
      "metadata": {
        "id": "xngsd1IrMkgN"
      }
    },
    {
      "cell_type": "markdown",
      "source": [
        "###Import relevant files/modules"
      ],
      "metadata": {
        "id": "nqvQiXXZJKBC"
      }
    },
    {
      "cell_type": "code",
      "execution_count": 1,
      "metadata": {
        "id": "u7tijsGFTQcX"
      },
      "outputs": [],
      "source": [
        "from bs4 import BeautifulSoup\n",
        "from requests import *\n",
        "import json"
      ]
    },
    {
      "cell_type": "markdown",
      "source": [
        "###Listing out the headers required for the project !"
      ],
      "metadata": {
        "id": "9X9iZ-TcLfBj"
      }
    },
    {
      "cell_type": "code",
      "source": [
        "headers ={\n",
        "    'Accept':'image/avif,image/webp,image/apng,image/svg+xml,image/*,*/*;q=0.8',\n",
        "   'Accept-Encoding':'gzip, deflate, br, zstd',\n",
        "    'Accept-Language':'en-IN,en-GB;q=0.9,en-US;q=0.8,en;q=0.7,ml;q=0.6',\n",
        "   'User-Agent':'Mozilla/5.0 (Windows NT 10.0; Win64; x64) AppleWebKit/537.36 (KHTML, like Gecko) Chrome/126.0.0.0 Safari/537.36'\n",
        "}"
      ],
      "metadata": {
        "id": "fpftCRKzl8cc"
      },
      "execution_count": 10,
      "outputs": []
    },
    {
      "cell_type": "markdown",
      "source": [
        "###List of products i used for my project (tbh : i tried other products, some of them are not working, for them to work, i should use something else instead of data in the following cells, which i may try later)"
      ],
      "metadata": {
        "id": "3fXXBds3Lsr5"
      }
    },
    {
      "cell_type": "code",
      "source": [
        "products = ['monitor','laptop','tv']"
      ],
      "metadata": {
        "id": "Obu_agmejMav"
      },
      "execution_count": 9,
      "outputs": []
    },
    {
      "cell_type": "markdown",
      "source": [
        "##Defining functions for our project."
      ],
      "metadata": {
        "id": "JYhB8FbCOkx9"
      }
    },
    {
      "cell_type": "markdown",
      "source": [
        "###first function"
      ],
      "metadata": {
        "id": "VefWF2MTO5bX"
      }
    },
    {
      "cell_type": "markdown",
      "source": [
        "\n",
        "1st function : get_prouduct_links()\n",
        "\n",
        "               input : name of a product\n",
        "               output : returns a list of links, where each link carries us to a different item of the specific product"
      ],
      "metadata": {
        "id": "NeVyNwD6MyHX"
      }
    },
    {
      "cell_type": "code",
      "source": [
        "def get_product_links(product,headers):\n",
        "  product_links = []\n",
        "  for i in range(5):\n",
        "    page = i+1\n",
        "    main_url = f'https://www.walmart.com/search?q={product}&page={page}'\n",
        "    response = get(main_url,headers=headers)\n",
        "    soup = BeautifulSoup(response.text,'html.parser')\n",
        "    links = soup.find_all('a',href = True)\n",
        "    for link in links:\n",
        "      link = link['href']\n",
        "      if 'ip' in link:\n",
        "        if'https' in link:\n",
        "          if link not in product_links:\n",
        "            product_links.append(link)\n",
        "        else:\n",
        "          if f'https://www.walmart.com{link}' not in product_links:\n",
        "            product_links.append(f'https://www.walmart.com{link}')\n",
        "\n",
        "    return product_links"
      ],
      "metadata": {
        "id": "25c4CHy-juHH"
      },
      "execution_count": 8,
      "outputs": []
    },
    {
      "cell_type": "markdown",
      "source": [
        "###second function"
      ],
      "metadata": {
        "id": "Y4LrI2kOPCcD"
      }
    },
    {
      "cell_type": "markdown",
      "source": [
        "2nd function : product_details()\n",
        "\n",
        "       input : takes the url for a specific item of a product\n",
        "       output : returns a dictionary of relevant info about the specific product"
      ],
      "metadata": {
        "id": "u1oeKwy3OwWT"
      }
    },
    {
      "cell_type": "code",
      "source": [
        "def product_details(product_url,headers):\n",
        "    response = get(product_url,headers=headers)\n",
        "    soup = BeautifulSoup(response.text,'html.parser')\n",
        "    data = soup.find('script',id='__NEXT_DATA__')\n",
        "    data = json.loads(data.string)\n",
        "    new_data = data['props']['pageProps']['initialData']['data']\n",
        "    short_description = new_data['idml']['shortDescription'],\n",
        "    product_info = {\n",
        "      'name' : new_data['product']['name'],\n",
        "      'price' : new_data['product']['priceInfo']['currentPrice']['priceString'],\n",
        "      'model' : new_data['product']['model'],\n",
        "      'average_rating' : new_data['reviews']['averageOverallRating'],\n",
        "      'seller_name' : new_data['product']['sellerName'],\n",
        "    }\n",
        "    return product_info"
      ],
      "metadata": {
        "id": "saGFj0XbhwKV"
      },
      "execution_count": 7,
      "outputs": []
    },
    {
      "cell_type": "markdown",
      "source": [
        "##main function (No description needed)"
      ],
      "metadata": {
        "id": "CUk3ISQ2PItQ"
      }
    },
    {
      "cell_type": "markdown",
      "source": [
        "###Defining the main function"
      ],
      "metadata": {
        "id": "v6DxjulTPnJH"
      }
    },
    {
      "cell_type": "code",
      "source": [
        "def main():\n",
        "  for j in range(len(products)):\n",
        "    product = products[j]\n",
        "    print(f'Product : {product} , \\n')\n",
        "    i=0\n",
        "    product_links = get_product_links(product,headers=headers)\n",
        "    for link in product_links:\n",
        "      product_info = product_details(link,headers=headers)\n",
        "      i=i+1\n",
        "      print(f'SL No. : {i}')\n",
        "      for key,value in product_info.items():\n",
        "        print(key,':',value)\n",
        "      print('\\n')\n",
        "    print('\\n\\n')"
      ],
      "metadata": {
        "id": "onTaz4x8TO3I"
      },
      "execution_count": 6,
      "outputs": []
    },
    {
      "cell_type": "markdown",
      "source": [],
      "metadata": {
        "id": "ry3rUMPdPeA9"
      }
    },
    {
      "cell_type": "markdown",
      "source": [
        "### And finally our last step, Calling the main function"
      ],
      "metadata": {
        "id": "zwT75OZNPYrO"
      }
    },
    {
      "cell_type": "code",
      "source": [
        "if __name__ == '__main__':\n",
        "  main()"
      ],
      "metadata": {
        "colab": {
          "base_uri": "https://localhost:8080/"
        },
        "id": "rcmu6_LyUVdP",
        "outputId": "b56c90e1-667b-4095-f90e-228933a4ab4a"
      },
      "execution_count": 11,
      "outputs": [
        {
          "output_type": "stream",
          "name": "stdout",
          "text": [
            "Product : monitor , \n",
            "\n",
            "SL No. : 1\n",
            "name : CRUA 27\"  FHD 100Hz Curved Monitor for Office&Gaming,1080P 1800R 99% sRGB Professional Computer Monitor,Frameless Design,Flicker-less & Blue Light Filter,VGA,HDMI-White\n",
            "price : $99.99\n",
            "model : CR270QB\n",
            "average_rating : 4.7309\n",
            "seller_name : Shenzhen Cape Vision Technology Co., Ltd\n",
            "\n",
            "\n",
            "SL No. : 2\n",
            "name : CRUA 32\" 165Hz/180Hz Curved Gaming Monitor, FHD 1080P 1800R Computer Monitor, 100% SRGB, 1ms (GTG), AMD FreeSync,DP & HDMI Port, Black\n",
            "price : $169.79\n",
            "model : CRUA\n",
            "average_rating : 4.6065\n",
            "seller_name : Shenzhen Cape Vision Technology Co., Ltd\n",
            "\n",
            "\n",
            "SL No. : 3\n",
            "name : CRUA 24\" FHD 100Hz Curved Computer Monitor,1080P Ultra-narrow bezel Office Monitor,99% SRGB,8 bit,16:9,AMD FreeSync, HDMI,White\n",
            "price : $99.99\n",
            "model : CR240QA\n",
            "average_rating : 4.607\n",
            "seller_name : Shenzhen Cape Vision Technology Co., Ltd\n",
            "\n",
            "\n",
            "SL No. : 4\n",
            "name : CRUA 22 Inch 75Hz Computer Monitor-FHD 1080P VA Frameless PC Monitor,Eye-Care Tech,Low Motion Blur,VGA & HDMI Ports-Black\n",
            "price : $67.19\n",
            "model : G220A\n",
            "average_rating : 4.7368\n",
            "seller_name : Shenzhen Cape Vision Technology Co., Ltd\n",
            "\n",
            "\n",
            "SL No. : 5\n",
            "name : KOORUI 24 inch High-Performance 165Hz/144Hz 1ms(MPRT) 100% sRGB Gaming Monitor,Adpitive sync,3-Side Borderless,FHD 1080P VA Computer Monitor,HDMI/DisplayPort,24E4\n",
            "price : $105.99\n",
            "model : 24E4\n",
            "average_rating : 4.464\n",
            "seller_name : HKC OVERSEAS LIMITED\n",
            "\n",
            "\n",
            "SL No. : 6\n",
            "name : KOORUI 24\" 165Hz Fast 1080P 1ms Ultra Slim Gaming Monitor, HDMI, DisplayPor 24E3\n",
            "price : $115.00\n",
            "model : 24E3\n",
            "average_rating : 4.6803\n",
            "seller_name : HKC OVERSEAS LIMITED\n",
            "\n",
            "\n",
            "SL No. : 7\n",
            "name : Z-EDGE UG27 27-Inch LED Curved Gaming Monitor 200Hz(DP) 144Hz(HDMI) 1ms Full HD 1920x1080 HDMI DP Port\n",
            "price : $159.99\n",
            "model : UG27\n",
            "average_rating : 4.3939\n",
            "seller_name : Zero Edge Technology\n",
            "\n",
            "\n",
            "SL No. : 8\n",
            "name : KOORUI 27 inch Curved Gaming Monitor, 165Hz FHD Computer Monitors, 100% sRGB,Adaptive Sync,27E6C\n",
            "price : $129.99\n",
            "model : 27E6C\n",
            "average_rating : 4.664\n",
            "seller_name : HKC OVERSEAS LIMITED\n",
            "\n",
            "\n",
            "SL No. : 9\n",
            "name : SAMSUNG 27\" Class Curved 1920x1080 VGA HDMI 60hz 4ms AMD FREESYNC HD LED Monitor - LC27F396FHNXZA\n",
            "price : $125.00\n",
            "model : LC27F396FHNXZA\n",
            "average_rating : 4.4042\n",
            "seller_name : Walmart.com\n",
            "\n",
            "\n",
            "SL No. : 10\n",
            "name : LG 34\" UltraGear Quad HD 3440 x 1440 2K 160Hz (OC) 1ms 2xHDMI DisplayPort Radeon FreeSync 2 NVIDIA G-Sync Compatible USB 3.0 Hub Nano IPS Curved Gaming Monitor - 34GN850-B\n",
            "price : $499.00\n",
            "model : 34GN850-B.AUS\n",
            "average_rating : 4.0455\n",
            "seller_name : Walmart.com\n",
            "\n",
            "\n",
            "SL No. : 11\n",
            "name : Acer 49\" Curved DQHD UltraWide (5120 x 1440) Monitor with comfortable view. AMD Radeon FreeSync Premium Technology, 32:9 Aspect Ratio, EI491CUR Sbmiipphx\n",
            "price : $899.00\n",
            "model : EI491CUR Sbmiipphx\n",
            "average_rating : None\n",
            "seller_name : Walmart.com\n",
            "\n",
            "\n",
            "SL No. : 12\n",
            "name : LG 27\" FHD IPS 3-Side Borderless Monitor with Anti-Glare & AMD FreeSync™ (1920 x 1080) - 27MP40W-B\n",
            "price : $129.00\n",
            "model : 27MP40W-B\n",
            "average_rating : 4.3791\n",
            "seller_name : Walmart.com\n",
            "\n",
            "\n",
            "SL No. : 13\n",
            "name : LG 27\" FHD IPS 3-Side Borderless Monitor with Anti-Glare & AMD FreeSync™ (1920 x 1080) - 27MP40W-B\n",
            "price : $124.99\n",
            "model : 27MP40W-B\n",
            "average_rating : 4.3791\n",
            "seller_name : OUT OF THIS WORLD ELECTRONICS\n",
            "\n",
            "\n",
            "SL No. : 14\n",
            "name : LG 27\" FHD IPS 3-Side Borderless Monitor with Anti-Glare & AMD FreeSync™ (1920 x 1080) - 27MP40W-B\n",
            "price : $124.99\n",
            "model : 27MP40W-B\n",
            "average_rating : 4.3791\n",
            "seller_name : OUT OF THIS WORLD ELECTRONICS\n",
            "\n",
            "\n",
            "SL No. : 15\n",
            "name : LG 27\" IPS 4K UHD 3840 x 2160 Ultrafine HDR400 USB-C Flat Monitor, Silver - AMD FreeSync, DisplayHDR 400, HDMI, DisplayPort Connectivity, Height/Pivot/Tilt Adjustable Stand\n",
            "price : $379.00\n",
            "model : None\n",
            "average_rating : 4.3791\n",
            "seller_name :  \n",
            "\n",
            "\n",
            "SL No. : 16\n",
            "name : Acer Predator 44.5\" UWQHD (3440 x 1440) 800R Curved Widescreen OLED Gaming Monitor with AMD FreeSync Premium, Up to 240Hz, 0.01ms Pixel Response Time, 1000nits @ HDR 3%, DCI-P3 99%, X45 bmiiphuzx\n",
            "price : $1,225.00\n",
            "model : X45 bmiiphuzx\n",
            "average_rating : None\n",
            "seller_name : Walmart.com\n",
            "\n",
            "\n",
            "\n",
            "\n",
            "\n",
            "Product : laptop , \n",
            "\n",
            "SL No. : 1\n",
            "name : HP 15.6\", Intel Processor N200 (Pentium) 4GB RAM, 128GB UFS, Scarlet Red, Windows 11 Home in S Mode, 15-fd0083wm\n",
            "price : $219.00\n",
            "model : 15-fd0083wm\n",
            "average_rating : 4.0506\n",
            "seller_name : Walmart.com\n",
            "\n",
            "\n",
            "SL No. : 2\n",
            "name : Lenovo Ideapad Flex 5 16 inch WUXGA IPS Touch 2-in-1 Laptop AMD Ryzen 7-7730U 16GB RAM 512 SSD Arctic Grey\n",
            "price : $679.00\n",
            "model : 82XY007BUS\n",
            "average_rating : 4.5632\n",
            "seller_name : Walmart.com\n",
            "\n",
            "\n",
            "SL No. : 3\n",
            "name : 15.6\" KUU Laptop Intel Celeron N5095, 16GB RAM, 512GB SSD, Win 11 Pro, Backlit Keyboard, Wifi & Bluetooth\n",
            "price : $319.00\n",
            "model : Yepbook\n",
            "average_rating : 3.3895\n",
            "seller_name : shenzhenshikuyoukejiyouxiangongsi\n",
            "\n",
            "\n",
            "SL No. : 4\n",
            "name : Acer Chromebook 315, Intel Celeron N4500, 15.6\" Full HD Display, 4GB LPDDR4X, 64GB eMMC, Moonstone Purple, Chrome OS, CB315-4H-C0VN with Protective Sleeve\n",
            "price : $179.00\n",
            "model : CB315-4H-C0VN\n",
            "average_rating : 4.4112\n",
            "seller_name : Walmart.com\n",
            "\n",
            "\n",
            "SL No. : 5\n",
            "name : KUU Laptop 15.6in FHD 16GB DDR4 1TB SSD Intel Alder Lake N95 up to 3.4GHz with Windows 11 Pro,Backlit Keyboard\n",
            "price : $369.00\n",
            "model : KUU Yepbook-2\n",
            "average_rating : 5\n",
            "seller_name : shenzhenshikuyoukejiyouxiangongsi\n",
            "\n",
            "\n",
            "SL No. : 6\n",
            "name : Acer Aspire 3, 15.6\" FHD Display, AMD Ryzen 7 5700U Processor, 16GB RAM, 512GB SSD, Windows 11 Home\n",
            "price : $359.00\n",
            "model : A315-44P-R7GS\n",
            "average_rating : 4.4341\n",
            "seller_name : Walmart.com\n",
            "\n",
            "\n",
            "SL No. : 7\n",
            "name : Apple MacBook Air 13.3 inch Laptop - Space Gray, M1 Chip, 8GB RAM, 256GB storage\n",
            "price : $699.00\n",
            "model : MGN63LL/A\n",
            "average_rating : 4.7007\n",
            "seller_name : Walmart.com\n",
            "\n",
            "\n",
            "SL No. : 8\n",
            "name : Apple MacBook Air 13.3 inch Laptop - Space Gray, M1 Chip, 8GB RAM, 256GB storage\n",
            "price : $699.00\n",
            "model : MGN63LL/A\n",
            "average_rating : 4.7007\n",
            "seller_name : Walmart.com\n",
            "\n",
            "\n",
            "SL No. : 9\n",
            "name : Apple MacBook Air 13.3 inch Laptop – Gold, M1 Chip, 8GB RAM, 256GB storage\n",
            "price : $699.00\n",
            "model : MGND3LL/A\n",
            "average_rating : 4.7007\n",
            "seller_name : Walmart.com\n",
            "\n",
            "\n",
            "SL No. : 10\n",
            "name : Apple MacBook Air 13.3 inch Laptop – Silver, M1 Chip, 8GB RAM, 256GB storage\n",
            "price : $699.00\n",
            "model : MGN93LL/A\n",
            "average_rating : 4.7007\n",
            "seller_name : Walmart.com\n",
            "\n",
            "\n",
            "SL No. : 11\n",
            "name : Apple MacBook Air 13.3 inch Laptop - Space Gray, M1 Chip, 8GB RAM, 256GB storage\n",
            "price : $699.00\n",
            "model : MGN63LL/A\n",
            "average_rating : 4.7007\n",
            "seller_name : Walmart.com\n",
            "\n",
            "\n",
            "SL No. : 12\n",
            "name : ASUS Vivobook S 15 Copilot+ PC 15.6 inch 3K OLED 120Hz Laptop Qualcomm Snapdragon X Elite 16GB RAM 1TB SSD Cool Silver\n",
            "price : $1,299.99\n",
            "model : S5507QAD-PS96\n",
            "average_rating : None\n",
            "seller_name : Walmart.com\n",
            "\n",
            "\n",
            "SL No. : 13\n",
            "name : HP ENVY x360 15.6\" FHD Laptop, Intel Core Ultra 7 155U AI PC, 16GB RAM, 512GB SSD, 15-fe1082wm\n",
            "price : $849.00\n",
            "model : 15-fe1082wm\n",
            "average_rating : None\n",
            "seller_name : Walmart.com\n",
            "\n",
            "\n",
            "SL No. : 14\n",
            "name : HP 15.6\" FHD Laptop, Intel Core i3-N305, 8GB RAM, 256GB SSD, Lilac Lavender, 15-fd0132wm\n",
            "price : $379.00\n",
            "model : 9C9A3UA#ABA\n",
            "average_rating : 5\n",
            "seller_name : Walmart.com\n",
            "\n",
            "\n",
            "SL No. : 15\n",
            "name : HP 15.6\" FHD Laptop, Intel Core i3-N305, 8GB RAM, 256GB SSD, Lilac Lavender, 15-fd0132wm\n",
            "price : $379.00\n",
            "model : 9C9A3UA#ABA\n",
            "average_rating : 5\n",
            "seller_name : Walmart.com\n",
            "\n",
            "\n",
            "SL No. : 16\n",
            "name : HP 15.6\" FHD Laptop, Intel Core i3-N305, 8GB RAM, 256GB SSD, Lilac Lavender, 15-fd0132wm\n",
            "price : $379.00\n",
            "model : 9C9A3UA#ABA\n",
            "average_rating : 5\n",
            "seller_name : Walmart.com\n",
            "\n",
            "\n",
            "SL No. : 17\n",
            "name : HP 15.6\" FHD Laptop, Intel Core i3-N305, 8GB RAM, 256GB SSD, Natural Silver, 15-fd0131wm\n",
            "price : $377.99\n",
            "model : 15-fd0131wm\n",
            "average_rating : 5\n",
            "seller_name : YOUNION, LLC\n",
            "\n",
            "\n",
            "SL No. : 18\n",
            "name : HP 14\" Laptop, Intel Core i3-N305, 8GB RAM, 256GB SSD, Moonlight Blue, Windows 11, 14-ep0792wm\n",
            "price : $279.00\n",
            "model : 14-ep0792wm\n",
            "average_rating : 4.4852\n",
            "seller_name : Walmart.com\n",
            "\n",
            "\n",
            "\n",
            "\n",
            "\n",
            "Product : tv , \n",
            "\n",
            "SL No. : 1\n",
            "name : TCL 55\" Class 4-Series 4K UHD HDR Smart Roku TV - 55S451\n",
            "price : $248.00\n",
            "model : 55S451\n",
            "average_rating : 4.2306\n",
            "seller_name : Walmart.com\n",
            "\n",
            "\n",
            "SL No. : 2\n",
            "name : TCL 75\" Class 4-Series 4K UHD HDR Smart Roku TV - 75S451\n",
            "price : $498.00\n",
            "model : 75S451\n",
            "average_rating : 4.2287\n",
            "seller_name : Walmart.com\n",
            "\n",
            "\n",
            "SL No. : 3\n",
            "name : TCL 43\" Class 4K (2160p) Smart LED TV (43S451)\n",
            "price : $198.00\n",
            "model : 43S451\n",
            "average_rating : 4.2788\n",
            "seller_name : Walmart.com\n",
            "\n",
            "\n",
            "SL No. : 4\n",
            "name : Roku 50-Inch Select Series 4K HDR Smart Roku TV with Roku Enhanced Voice Remote, Brilliant 4K Picture, Automatic Brightness, & Seamless Streaming\n",
            "price : $268.00\n",
            "model : 50R4A5R\n",
            "average_rating : 4.4278\n",
            "seller_name : Walmart.com\n",
            "\n",
            "\n",
            "SL No. : 5\n",
            "name : Roku 65-Inch Select Series 4K HDR Smart Roku TV with Roku Enhanced Voice Remote, Brilliant 4K Picture, Automatic Brightness, & Seamless Streaming\n",
            "price : $398.00\n",
            "model : 65R4A5R\n",
            "average_rating : 4.3373\n",
            "seller_name : Walmart.com\n",
            "\n",
            "\n",
            "SL No. : 6\n",
            "name : Roku 55-Inch Plus Series 4K QLED Smart Roku TV with Roku Voice Remote Pro, Dolby Vision, Striking 4K Resolution, Automatic Brightness, & Seamless Streaming\n",
            "price : $448.00\n",
            "model : 55R6A5R\n",
            "average_rating : 4.3704\n",
            "seller_name : Walmart.com\n",
            "\n",
            "\n",
            "SL No. : 7\n",
            "name : Hisense 58\" Class 4K UHD LED LCD Roku Smart TV HDR R6 Series 58R6E3\n",
            "price : $258.00\n",
            "model : 58R6E3\n",
            "average_rating : 4.2776\n",
            "seller_name : Walmart.com\n",
            "\n",
            "\n",
            "SL No. : 8\n",
            "name : Hisense 40\" Class 1080p FHD LED LCD Roku Smart TV H4030F Series (40H4030F1)\n",
            "price : $138.00\n",
            "model : 40H4030F3-4\n",
            "average_rating : 4.3421\n",
            "seller_name : Walmart.com\n",
            "\n",
            "\n",
            "SL No. : 9\n",
            "name : onn. 32” Class HD (720P) LED Roku Smart Television (100012589)\n",
            "price : $88.00\n",
            "model : 100012589\n",
            "average_rating : 4.4456\n",
            "seller_name : Walmart.com\n",
            "\n",
            "\n",
            "SL No. : 10\n",
            "name : Hisense 58\" Class 4K UHD LED LCD Roku Smart TV HDR R6 Series 58R6E3\n",
            "price : $258.00\n",
            "model : 58R6E3\n",
            "average_rating : 4.2776\n",
            "seller_name : Walmart.com\n",
            "\n",
            "\n",
            "SL No. : 11\n",
            "name : onn. 50” Class 4K UHD (2160P) LED Roku Smart Television HDR (100012585)\n",
            "price : $198.00\n",
            "model : 100012585\n",
            "average_rating : 4.4036\n",
            "seller_name : Walmart.com\n",
            "\n",
            "\n",
            "SL No. : 12\n",
            "name : TCL 55\" Class 4-Series 4K UHD HDR Smart Roku TV - 55S451\n",
            "price : $248.00\n",
            "model : 55S451\n",
            "average_rating : 4.2306\n",
            "seller_name : Walmart.com\n",
            "\n",
            "\n",
            "\n",
            "\n",
            "\n"
          ]
        }
      ]
    },
    {
      "cell_type": "markdown",
      "source": [
        "#The Conclusion :\n"
      ],
      "metadata": {
        "id": "AEUadfu1QaXa"
      }
    },
    {
      "cell_type": "markdown",
      "source": [
        "#####So, I enjoyed working on this (my first project).It was great, like getting an idea after hours of brain rot is a really a great feeling, I love this. I guess that's my project that i _finished_ my project.Still I will read this after a very long time.Maybe i will laugh at this in the future. Thankyou for reading.YOU ARE GREAT !!!"
      ],
      "metadata": {
        "id": "cco-fH7BQpF7"
      }
    }
  ]
}